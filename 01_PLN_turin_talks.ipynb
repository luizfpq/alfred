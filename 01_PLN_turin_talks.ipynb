{
  "cells": [
    {
      "cell_type": "markdown",
      "metadata": {
        "colab_type": "text",
        "id": "view-in-github"
      },
      "source": [
        "<a href=\"https://colab.research.google.com/github/luizfpq/alfred/blob/main/01_PLN_turin_talks.ipynb\" target=\"_parent\"><img src=\"https://colab.research.google.com/assets/colab-badge.svg\" alt=\"Open In Colab\"/></a>"
      ]
    },
    {
      "cell_type": "code",
      "execution_count": null,
      "metadata": {
        "colab": {
          "base_uri": "https://localhost:8080/"
        },
        "id": "k6TvqXp5J_1B",
        "outputId": "2d98ac8c-45a8-4fda-be5b-9661781b05a2"
      },
      "outputs": [],
      "source": [
        "!pip install ipykernel\n",
        "!pip install bs4\n",
        "!pip install pandas"
      ]
    },
    {
      "cell_type": "code",
      "execution_count": null,
      "metadata": {
        "colab": {
          "base_uri": "https://localhost:8080/"
        },
        "id": "0ywFMsPKLBrm",
        "outputId": "e6e20670-ec14-4d95-a5db-e7a873fcc355"
      },
      "outputs": [],
      "source": [
        "# music_scapper.py\n",
        "import requests\n",
        "from bs4 import BeautifulSoup\n",
        "import pandas as pd\n",
        "\n",
        "page = requests.get(\"https://www.vagalume.com.br/baco-exu-do-blues/\")\n",
        "soup = BeautifulSoup(page.content, 'html.parser')\n",
        "lista_alfabetica = BeautifulSoup(str(soup.findChildren(id = \"alfabetMusicList\")), 'html.parser')\n",
        "a_tag = lista_alfabetica.findAll('a')\n",
        "\n",
        "musicas = []\n",
        "for a in a_tag:\n",
        "    nome_musica = a.text\n",
        "    if not(nome_musica == 'TRADUÇÃO' or nome_musica == ''):\n",
        "        link_musica = a['href']\n",
        "        musicas.append([nome_musica, link_musica])\n",
        "\n",
        "for i in range(len(musicas)):\n",
        "    link = \"https://www.vagalume.com.br\" + str(musicas[i][1])\n",
        "    page = requests.get(link)\n",
        "    soup = BeautifulSoup(page.content, 'html.parser')\n",
        "    h3_tag = soup.findAll('h3')\n",
        "    if len(h3_tag) != 0:\n",
        "        album = h3_tag[0].text\n",
        "    else:\n",
        "        album = ''\n",
        "    lyrics = soup.findChildren(id = 'lyrics')\n",
        "    lyrics = str(lyrics[0])\n",
        "    lyrics = lyrics.replace('<div id=\"lyrics\">', '')\n",
        "    lyrics = lyrics.replace('<div data-plugin=\"googleTranslate\" id=\"lyrics\">', '')\n",
        "    lyrics = lyrics.replace('<br/>', ' ')\n",
        "    lyrics = lyrics.replace(\"\\'\",\"'\")\n",
        "    lyrics = lyrics.replace('</div>', '')\n",
        "    musicas[i].append(album)\n",
        "    musicas[i].append(lyrics)\n",
        "\n",
        "musicas = pd.DataFrame(musicas, columns=['Nome da Música', 'link', 'album', 'letra'])\n",
        "\n",
        "print(musicas)"
      ]
    },
    {
      "cell_type": "code",
      "execution_count": null,
      "metadata": {
        "id": "qrjVRZAfKXBy"
      },
      "outputs": [],
      "source": []
    }
  ],
  "metadata": {
    "colab": {
      "include_colab_link": true,
      "provenance": []
    },
    "kernelspec": {
      "display_name": "Python 3",
      "name": "python3"
    },
    "language_info": {
      "codemirror_mode": {
        "name": "ipython",
        "version": 3
      },
      "file_extension": ".py",
      "mimetype": "text/x-python",
      "name": "python",
      "nbconvert_exporter": "python",
      "pygments_lexer": "ipython3",
      "version": "3.11.2"
    }
  },
  "nbformat": 4,
  "nbformat_minor": 0
}
