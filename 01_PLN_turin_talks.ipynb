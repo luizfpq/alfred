{
  "cells": [
    {
      "cell_type": "markdown",
      "metadata": {
        "id": "view-in-github",
        "colab_type": "text"
      },
      "source": [
        "<a href=\"https://colab.research.google.com/github/luizfpq/alfred/blob/main/01_PLN_turin_talks.ipynb\" target=\"_parent\"><img src=\"https://colab.research.google.com/assets/colab-badge.svg\" alt=\"Open In Colab\"/></a>"
      ]
    },
    {
      "cell_type": "code",
      "execution_count": 1,
      "metadata": {
        "id": "k6TvqXp5J_1B",
        "outputId": "2d98ac8c-45a8-4fda-be5b-9661781b05a2",
        "colab": {
          "base_uri": "https://localhost:8080/"
        }
      },
      "outputs": [
        {
          "output_type": "stream",
          "name": "stdout",
          "text": [
            "Collecting bs4\n",
            "  Downloading bs4-0.0.2-py2.py3-none-any.whl (1.2 kB)\n",
            "Requirement already satisfied: beautifulsoup4 in /usr/local/lib/python3.10/dist-packages (from bs4) (4.12.3)\n",
            "Requirement already satisfied: soupsieve>1.2 in /usr/local/lib/python3.10/dist-packages (from beautifulsoup4->bs4) (2.5)\n",
            "Installing collected packages: bs4\n",
            "Successfully installed bs4-0.0.2\n",
            "Requirement already satisfied: pandas in /usr/local/lib/python3.10/dist-packages (1.5.3)\n",
            "Requirement already satisfied: python-dateutil>=2.8.1 in /usr/local/lib/python3.10/dist-packages (from pandas) (2.8.2)\n",
            "Requirement already satisfied: pytz>=2020.1 in /usr/local/lib/python3.10/dist-packages (from pandas) (2023.4)\n",
            "Requirement already satisfied: numpy>=1.21.0 in /usr/local/lib/python3.10/dist-packages (from pandas) (1.25.2)\n",
            "Requirement already satisfied: six>=1.5 in /usr/local/lib/python3.10/dist-packages (from python-dateutil>=2.8.1->pandas) (1.16.0)\n"
          ]
        }
      ],
      "source": [
        "!pip install bs4\n",
        "!pip install pandas"
      ]
    },
    {
      "cell_type": "code",
      "execution_count": 3,
      "metadata": {
        "id": "0ywFMsPKLBrm",
        "outputId": "e6e20670-ec14-4d95-a5db-e7a873fcc355",
        "colab": {
          "base_uri": "https://localhost:8080/"
        }
      },
      "outputs": [
        {
          "output_type": "stream",
          "name": "stdout",
          "text": [
            "            Nome da Música                                            link  \\\n",
            "0              20 Ligações             /baco-exu-do-blues/20-ligacoes.html   \n",
            "1   4 da Manhã em Salvador  /baco-exu-do-blues/4-da-manha-em-salvador.html   \n",
            "2                      999                     /baco-exu-do-blues/999.html   \n",
            "3        A Pele Que Habito       /baco-exu-do-blues/a-pele-que-habito.html   \n",
            "4            Abre Caminhos           /baco-exu-do-blues/abre-caminhos.html   \n",
            "..                     ...                                             ...   \n",
            "59         Te Amo Disgraça         /baco-exu-do-blues/te-amo-disgraca.html   \n",
            "60            Tommie Smith            /baco-exu-do-blues/tommie-smith.html   \n",
            "61           Tropa do Babu           /baco-exu-do-blues/tropa-do-babu.html   \n",
            "62              Tropicália              /baco-exu-do-blues/tropicalia.html   \n",
            "63      Tudo Vai Dar Certo      /baco-exu-do-blues/tudo-vai-dar-certo.html   \n",
            "\n",
            "   album                                              letra  \n",
            "0         20 ligações no celular Já não sei se quero te ...  \n",
            "1         4 da manhã em Salvador, em Salvador 4 da manhã...  \n",
            "2         Facção carinhosa, time da ressaca Só os quebra...  \n",
            "3    Esú  Responsabilidade de sombra de sobra Me seguem,...  \n",
            "4    Esú  Ih, que que eu tô fazendo aqui Mais de 7 dias ...  \n",
            "..   ...                                                ...  \n",
            "59   Esú  Bebendo vinho Quebrando as taça Fudendo por to...  \n",
            "60        Facção carinhosa, ey, ey É a nove! (É a nove!)...  \n",
            "61        Kung Fu Baco Facção carinhosa, ei ei  Todos me...  \n",
            "62        Foda matinal, clima tropical Fumando cancer pr...  \n",
            "63        All that is you All of the signs, all of the s...  \n",
            "\n",
            "[64 rows x 4 columns]\n"
          ]
        }
      ],
      "source": [
        "# music_scapper.py\n",
        "import requests\n",
        "from bs4 import BeautifulSoup\n",
        "import pandas as pd\n",
        "\n",
        "page = requests.get(\"https://www.vagalume.com.br/baco-exu-do-blues/\")\n",
        "soup = BeautifulSoup(page.content, 'html.parser')\n",
        "lista_alfabetica = BeautifulSoup(str(soup.findChildren(id = \"alfabetMusicList\")), 'html.parser')\n",
        "a_tag = lista_alfabetica.findAll('a')\n",
        "\n",
        "musicas = []\n",
        "for a in a_tag:\n",
        "    nome_musica = a.text\n",
        "    if not(nome_musica == 'TRADUÇÃO' or nome_musica == ''):\n",
        "        link_musica = a['href']\n",
        "        musicas.append([nome_musica, link_musica])\n",
        "\n",
        "for i in range(len(musicas)):\n",
        "    link = \"https://www.vagalume.com.br\" + str(musicas[i][1])\n",
        "    page = requests.get(link)\n",
        "    soup = BeautifulSoup(page.content, 'html.parser')\n",
        "    h3_tag = soup.findAll('h3')\n",
        "    if len(h3_tag) != 0:\n",
        "        album = h3_tag[0].text\n",
        "    else:\n",
        "        album = ''\n",
        "    lyrics = soup.findChildren(id = 'lyrics')\n",
        "    lyrics = str(lyrics[0])\n",
        "    lyrics = lyrics.replace('<div id=\"lyrics\">', '')\n",
        "    lyrics = lyrics.replace('<div data-plugin=\"googleTranslate\" id=\"lyrics\">', '')\n",
        "    lyrics = lyrics.replace('<br/>', ' ')\n",
        "    lyrics = lyrics.replace(\"\\'\",\"'\")\n",
        "    lyrics = lyrics.replace('</div>', '')\n",
        "    musicas[i].append(album)\n",
        "    musicas[i].append(lyrics)\n",
        "\n",
        "musicas = pd.DataFrame(musicas, columns=['Nome da Música', 'link', 'album', 'letra'])\n",
        "\n",
        "print(musicas)"
      ]
    },
    {
      "cell_type": "code",
      "source": [],
      "metadata": {
        "id": "qrjVRZAfKXBy"
      },
      "execution_count": null,
      "outputs": []
    }
  ],
  "metadata": {
    "colab": {
      "provenance": [],
      "include_colab_link": true
    },
    "kernelspec": {
      "display_name": "Python 3",
      "name": "python3"
    },
    "language_info": {
      "codemirror_mode": {
        "name": "ipython",
        "version": 3
      },
      "file_extension": ".py",
      "mimetype": "text/x-python",
      "name": "python",
      "nbconvert_exporter": "python",
      "pygments_lexer": "ipython3",
      "version": "3.11.2"
    }
  },
  "nbformat": 4,
  "nbformat_minor": 0
}